{
 "cells": [
  {
   "cell_type": "markdown",
   "metadata": {},
   "source": [
    "# Poisson Test\n",
    "\n",
    "There are many tools that exists for hypothesis testing of whether a poisson distribution has $\\hat{\\lambda} = \\lambda_{\\circ} $ or not. But what I want to test is that a particular data comes from a poisson distribution or not. For this there are different approaches. Ranging from visual to statistical analysis.\n",
    "\n",
    "Through online research I will try to find some basic methods to do the same. But I would need a second eye to validate the methods.\n",
    "\n",
    "Based on the [StackExchange](https://stats.stackexchange.com/questions/1174/how-can-i-test-if-given-samples-are-taken-from-a-poisson-distribution), I came to know about the 3 methods.\n",
    "- Likelihood Ratio Test\n",
    "- Poisson Dispersion Test\n",
    "- Use of Neyman-Scot Statistic\n",
    "\n",
    "Emanuele also suggested a method to test, I would try to elaborate that as well. \n",
    "\n",
    "### Note for code\n",
    "I could not find easily an R/Python code which does the same. Any suggestion on the same will be helpful."
   ]
  },
  {
   "cell_type": "markdown",
   "metadata": {},
   "source": [
    "## Likelihood Ratio Test\n",
    "\n",
    "\n",
    "### Theory\n",
    "How I understand it, the likelihood ratio ($\\Lambda$) is given as the ratio of likelihood under null hypothesis $H_{\\circ}$ and the likelihood ratio under the union of $H_{\\circ}$ and the alternate hypothesis $H_{a}$. \n",
    "\n",
    "And we know (somehow) that -2log($\\Lambda$) is $\\chi^2_k$ distributed, with k degrees of freedom.\n",
    "\n",
    "Ideally the entire dataset is divided in $n$ bins. And the null hypothesis is that entire dataset comes from one poisson distribution with a parameter $\\hat{\\lambda}$, while the under the union of $H_\\circ$ and $H_a$ it is considered that each of the bins have their individual $\\hat{\\lambda_i}$. In an ideal case they will be all equal to $\\hat{\\lambda}$ and then $\\Lambda$ will be equal to 1. Intuition is that as far we are from 1 (less than 1), more unlikely we are that the data comes from a poisson distribution.  \n",
    "\n",
    "\n"
   ]
  },
  {
   "cell_type": "markdown",
   "metadata": {},
   "source": [
    "### Application\n",
    "\n",
    "Under these assumption it is easy to find that -2log$\\Lambda$ = $2\\sum_{i=1}^{n}x_ilog\\frac{x_i}{\\bar{x}}$\n",
    "\n",
    "In our case, say we have 40 years of data, so n = 40. So we have 1 parameter $\\lambda$ and 40 parameters as $\\lambda_i$, <span style=\"background-color:powderblue;\"> in my understanding then k - degrees of freedom should be 39 </span>. I need to check this.\n"
   ]
  },
  {
   "cell_type": "code",
   "execution_count": 6,
   "metadata": {},
   "outputs": [
    {
     "data": {
      "text/plain": [
       "Text(0.5, 1.0, '$\\\\chi_{39}^{2}$ distribution')"
      ]
     },
     "execution_count": 6,
     "metadata": {},
     "output_type": "execute_result"
    },
    {
     "data": {
      "image/png": "[encoded data removed]",
      "text/plain": [
       "<Figure size 432x288 with 1 Axes>"
      ]
     },
     "metadata": {
      "needs_background": "light"
     },
     "output_type": "display_data"
    }
   ],
   "source": [
    "## Lets look at a chi square distribution with k = 39\n",
    "from scipy.stats import chi2\n",
    "import numpy as np\n",
    "import matplotlib.pylab as plt\n",
    "\n",
    "df = 39\n",
    "\n",
    "# Generate 500 x points between 1 to 99 percentile values\n",
    "x = np.linspace(chi2.ppf(0.01,df), chi2.ppf(0.99, df), 500)\n",
    "y = chi2.pdf(x,39)\n",
    "\n",
    "fig, ax = plt.subplots(1,1)\n",
    "ax.plot(x,y)\n",
    "plt.title(r'$\\chi_{39}^{2}$ distribution')"
   ]
  },
  {
   "cell_type": "code",
   "execution_count": null,
   "metadata": {},
   "outputs": [],
   "source": [
    "Lets "
   ]
  },
  {
   "cell_type": "code",
   "execution_count": null,
   "metadata": {},
   "outputs": [],
   "source": []
  }
 ],
 "metadata": {
  "kernelspec": {
   "display_name": "Python 3",
   "language": "python",
   "name": "python3"
  },
  "language_info": {
   "codemirror_mode": {
    "name": "ipython",
    "version": 3
   },
   "file_extension": ".py",
   "mimetype": "text/x-python",
   "name": "python",
   "nbconvert_exporter": "python",
   "pygments_lexer": "ipython3",
   "version": "3.8.2"
  }
 },
 "nbformat": 4,
 "nbformat_minor": 4
}
