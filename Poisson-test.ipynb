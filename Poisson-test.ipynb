{
 "cells": [
  {
   "cell_type": "markdown",
   "metadata": {},
   "source": [
    "# Poisson Test\n",
    "\n",
    "There are many tools that exists for hypothesis testing of whether a poisson distribution has $\\hat{\\lambda} = \\lambda_{\\circ} $ or not. But what I want to test is that a particular data comes from a poisson distribution or not. For this there are different approaches. Ranging from visual to statistical analysis.\n",
    "\n",
    "Through online research I will try to find some basic methods to do the same. But I would need a second eye to validate the methods.\n",
    "\n",
    "Based on the [StackExchange](https://stats.stackexchange.com/questions/1174/how-can-i-test-if-given-samples-are-taken-from-a-poisson-distribution), I came to know about the 3 methods.\n",
    "- Likelihood Ratio Test\n",
    "- Poisson Dispersion Test\n",
    "- Use of Neyman-Scot Statistic\n",
    "\n",
    "Emanuele also suggested a method to test, I would try to elaborate that as well. \n",
    "\n",
    "### Note for code\n",
    "I could not find easily an R/Python code which does the same. Any suggestion on the same will be helpful."
   ]
  },
  {
   "cell_type": "markdown",
   "metadata": {},
   "source": [
    "## Likelihood Ratio Test\n",
    "\n",
    "\n",
    "### Theory\n",
    "How I understand it, the likelihood ratio ($\\Lambda$) is given as the ratio of likelihood under null hypothesis $H_{\\circ}$ and the likelihood ratio under the union of $H_{\\circ}$ and the alternate hypothesis $H_{a}$. \n",
    "\n",
    "And we know (somehow) that -2log($\\Lambda$) is $\\chi^2_k$ distributed, with k degrees of freedom.\n",
    "\n",
    "Ideally the entire dataset is divided in $n$ bins. And the null hypothesis is that entire dataset comes from one poisson distribution with a parameter $\\hat{\\lambda}$, while the under the union of $H_\\circ$ and $H_a$ it is considered that each of the bins have their individual $\\hat{\\lambda_i}$. In an ideal case they will be all equal to $\\hat{\\lambda}$ and then $\\Lambda$ will be equal to 1. Intuition is that as far we are from 1 (less than 1), more unlikely we are that the data comes from a poisson distribution.  \n",
    "\n",
    "\n"
   ]
  },
  {
   "cell_type": "markdown",
   "metadata": {},
   "source": [
    "### Application\n",
    "\n",
    "Under these assumption it is easy to find that -2log$\\Lambda$ = $2\\sum_{i=1}^{n}x_ilog\\frac{x_i}{\\bar{x}}$\n",
    "\n",
    "In our case, say we have 40 years of data, so n = 40. So we have 1 parameter $\\lambda$ and 40 parameters as $\\lambda_i$, <span style=\"background-color:powderblue;\"> in my understanding then k - degrees of freedom should be 39 </span>. I need to check this.\n"
   ]
  },
  {
   "cell_type": "markdown",
   "metadata": {},
   "source": [
    "### Working with ERA5 bias corrected data\n",
    "\n",
    "We start with the temperature, and then do a linear detrend. Further we do the test for the data as described above\n"
   ]
  },
  {
   "cell_type": "code",
   "execution_count": 245,
   "metadata": {},
   "outputs": [
    {
     "data": {
      "text/plain": [
       "<matplotlib.legend.Legend at 0x7f91143216d0>"
      ]
     },
     "execution_count": 245,
     "metadata": {},
     "output_type": "execute_result"
    },
    {
     "data": {
      "image/png": "[encoded data removed]",
      "text/plain": [
       "<Figure size 432x288 with 1 Axes>"
      ]
     },
     "metadata": {
      "needs_background": "light"
     },
     "output_type": "display_data"
    }
   ],
   "source": [
    "from netCDF4 import Dataset\n",
    "from datetime import datetime, timedelta\n",
    "from scipy import signal\n",
    "import matplotlib.pylab as plt\n",
    "\n",
    "var = 'Rainf'\n",
    "fpath_data = '/Users/anand/Documents/data/bias-corrected-reanalysis/'+var+'_WFDE5_CRU_dly_v1.0.nc'\n",
    "\n",
    "data = Dataset(fpath_data, 'r')\n",
    "\n",
    "def lat_lon_to_index(lat, lon):\n",
    "    lat_ind = (lat+90+0.5)/0.5\n",
    "    lon_ind = (lon+180+0.5)/0.5 \n",
    "    \n",
    "    return int(lat_ind), int(lon_ind)\n",
    "\n",
    "# Read the data for a particular location\n",
    "\n",
    "# # Leipzig\n",
    "\n",
    "# lat = 51.33\n",
    "# lon = 12.37\n",
    "\n",
    "\n",
    "# Zurich\n",
    "\n",
    "lat = 47.37\n",
    "lon = 8.54\n",
    "\n",
    "\n",
    "# # New Delhi\n",
    "\n",
    "# lat = 28.61\n",
    "# lon = 77.20\n",
    "\n",
    "# # Cannberra\n",
    "# lat = -35.28\n",
    "# lon = 149.130\n",
    "\n",
    "lat_ind, lon_ind = lat_lon_to_index(lat, lon)\n",
    "\n",
    "Tair = data[var][:,lat_ind,lon_ind]\n",
    "\n",
    "# First detrend the temperature\n",
    "\n",
    "Tair_trend = signal.detrend(Tair, type = 'constant')\n",
    "Tair_no_trend = signal.detrend(Tair, type = 'linear')\n",
    "\n",
    "fig, ax = plt.subplots(1,1)\n",
    "\n",
    "ax.vlines(trend_ind, ymin = 0, ymax = 1, color = 'orangered', label = 'with trend' )\n",
    "ax.vlines(no_trend_ind, ymin = 0, ymax = 1, color = 'navy', label = 'without trend')\n",
    "\n",
    "plt.legend(bbox_to_anchor=(1.35, 1))\n"
   ]
  },
  {
   "cell_type": "code",
   "execution_count": 246,
   "metadata": {},
   "outputs": [
    {
     "data": {
      "text/plain": [
       "<matplotlib.collections.PathCollection at 0x7f911512b1f0>"
      ]
     },
     "execution_count": 246,
     "metadata": {},
     "output_type": "execute_result"
    },
    {
     "data": {
      "image/png": "[encoded data removed]",
      "text/plain": [
       "<Figure size 432x288 with 1 Axes>"
      ]
     },
     "metadata": {
      "needs_background": "light"
     },
     "output_type": "display_data"
    }
   ],
   "source": [
    "# Find the hottest 3 months\n",
    "\n",
    "strt_dt = datetime(1900,1,1)\n",
    "\n",
    "day_list= [strt_dt+timedelta(hours=hr) for hr in data['time'][:]]\n",
    "\n",
    "avg_temp = np.zeros(12)\n",
    "\n",
    "for i in range(1,13):\n",
    "    \n",
    "    ind = [d.month==i for d in day_list] \n",
    "    \n",
    "    avg_temp[i-1] = np.average(Tair_no_trend[ind])\n",
    "\n",
    "# Sort in descending order\n",
    "hottest_months = [1+ month_ind for month_ind in  np.argsort(-avg_temp)[:3]]\n",
    "\n",
    "# make a 2 D array with date and temperature\n",
    "\n",
    "dt_3 = []\n",
    "Tair_3 = []\n",
    "\n",
    "for time, temp in zip(day_list, Tair_no_trend):    \n",
    "    if time.month in hottest_months:\n",
    "        dt_3.append(time)\n",
    "        Tair_3.append(temp)\n",
    "\n",
    "\n",
    "# Compute 95 percent \n",
    "perc_95 = np.percentile(Tair_3, 95)\n",
    "\n",
    "dt_3_95 = []\n",
    "Tair_3_95 = []\n",
    "\n",
    "for time, temp in zip(dt_3, Tair_3):    \n",
    "    if temp>perc_95:\n",
    "        dt_3_95.append(time)\n",
    "        Tair_3_95.append(temp)\n",
    "\n",
    "            \n",
    "fig, ax = plt.subplots(1,1)\n",
    "ax.scatter(dt_3_95, Tair_3_95)\n"
   ]
  },
  {
   "cell_type": "code",
   "execution_count": 247,
   "metadata": {},
   "outputs": [
    {
     "name": "stdout",
     "output_type": "stream",
     "text": [
      "4.6\n"
     ]
    },
    {
     "data": {
      "text/plain": [
       "[<matplotlib.lines.Line2D at 0x7f9115586ee0>]"
      ]
     },
     "execution_count": 247,
     "metadata": {},
     "output_type": "execute_result"
    },
    {
     "data": {
      "image/png": "[encoded data removed]",
      "text/plain": [
       "<Figure size 288x576 with 1 Axes>"
      ]
     },
     "metadata": {
      "needs_background": "light"
     },
     "output_type": "display_data"
    }
   ],
   "source": [
    "from scipy.stats import poisson\n",
    "\n",
    "# Calculate the number of events in each year\n",
    "\n",
    "n_events_year = np.zeros(2019-1979)\n",
    "\n",
    "for time in dt_3_95:\n",
    "    i = time.year-1979 \n",
    "    n_events_year[i]+=1 \n",
    "\n",
    "mu = np.average(n_events_year)\n",
    "print(mu)\n",
    "k_list= np.arange(20)\n",
    "\n",
    "prob = poisson.pmf(k_list, mu)\n",
    "\n",
    "# plot the histogram and the poisson distribution    \n",
    "\n",
    "fig, ax = plt.subplots(1,1, figsize = (4,8))\n",
    "ax.hist(n_events_year, bins = 40, density = True)\n",
    "ax.plot(k_list, prob, color = 'r')\n",
    "\n",
    "    "
   ]
  },
  {
   "cell_type": "markdown",
   "metadata": {},
   "source": [
    "### Likelihood Ratio test "
   ]
  },
  {
   "cell_type": "code",
   "execution_count": 248,
   "metadata": {},
   "outputs": [
    {
     "name": "stdout",
     "output_type": "stream",
     "text": [
      "[3. 2. 4. 3. 4. 2. 3. 8. 6. 7. 5. 2. 4. 5. 8. 3. 5. 2. 5. 4. 6. 4. 4. 8.\n",
      " 2. 2. 6. 2. 9. 4. 6. 7. 7. 7. 4. 6. 2. 5. 5. 3.]\n"
     ]
    },
    {
     "data": {
      "image/png": "[encoded data removed]",
      "text/plain": [
       "<Figure size 432x288 with 1 Axes>"
      ]
     },
     "metadata": {
      "needs_background": "light"
     },
     "output_type": "display_data"
    }
   ],
   "source": [
    "## Lets look at a chi square distribution with k = 39\n",
    "from scipy.stats import chi2\n",
    "import numpy as np\n",
    "import matplotlib.pylab as plt\n",
    "\n",
    "\n",
    "def lr_test(n_events_year):\n",
    "    \n",
    "    mu = np.average(n_events_year)\n",
    "    arr_2loglambda = 2*np.multiply(n_events_year,np.log(n_events_year/mu))\n",
    "    neg_2loglambda = np.nansum(arr_2loglambda)\n",
    "    df = np.count_nonzero(~np.isnan(arr_2loglambda))\n",
    "    print(n_events_year)\n",
    "    print(arr_2loglambda)\n",
    "    # Generate 500 x points between 1 to 99 percentile values\n",
    "    x = np.linspace(10, 150, 500)\n",
    "    y = chi2.pdf(x,df)\n",
    "    conf_max = chi2.ppf(0.975,df)\n",
    "    conf_min = chi2.ppf(0.025,df)\n",
    "    \n",
    "    x_between = np.linspace(conf_min, conf_max, 400)\n",
    "    y_conf = chi2.pdf(x_between,df)\n",
    "    \n",
    "    fig, ax = plt.subplots(1,1)\n",
    "    ax.plot(x,y)\n",
    "    ax.fill_between(x_between, y_conf, color = 'mediumpurple', alpha = 0.3)\n",
    "    title = '$\\chi^{2}_{'+str(df)+'}$ distribution'\n",
    "    plt.title(title)\n",
    "    ax.axvline(x = neg_2loglambda, color = 'r')\n",
    "    \n",
    "lr_test(n_events_year)"
   ]
  },
  {
   "cell_type": "code",
   "execution_count": 249,
   "metadata": {},
   "outputs": [
    {
     "name": "stdout",
     "output_type": "stream",
     "text": [
      "[3 1 5 1 5 8 1 3 5 4 5 4 3 3 6 7 8 7 8 4 1 6 3 7 4 4 4 5 3 4 4 3 2 5 3 5 1\n",
      " 8 7 4]\n"
     ]
    },
    {
     "data": {
      "image/png": "[encoded data removed]",
      "text/plain": [
       "<Figure size 432x288 with 1 Axes>"
      ]
     },
     "metadata": {
      "needs_background": "light"
     },
     "output_type": "display_data"
    }
   ],
   "source": [
    "## Lets look at an example from true poisson distribution\n",
    "\n",
    "n_events_sim = poisson.rvs(mu, size= 40)\n",
    "lr_test(n_events_sim)"
   ]
  },
  {
   "cell_type": "code",
   "execution_count": null,
   "metadata": {},
   "outputs": [],
   "source": []
  },
  {
   "cell_type": "code",
   "execution_count": null,
   "metadata": {},
   "outputs": [],
   "source": []
  }
 ],
 "metadata": {
  "kernelspec": {
   "display_name": "Python 3 (ipykernel)",
   "language": "python",
   "name": "python3"
  },
  "language_info": {
   "codemirror_mode": {
    "name": "ipython",
    "version": 3
   },
   "file_extension": ".py",
   "mimetype": "text/x-python",
   "name": "python",
   "nbconvert_exporter": "python",
   "pygments_lexer": "ipython3",
   "version": "3.9.1"
  }
 },
 "nbformat": 4,
 "nbformat_minor": 4
}
