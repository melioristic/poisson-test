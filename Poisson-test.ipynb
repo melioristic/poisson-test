{
 "cells": [
  {
   "cell_type": "markdown",
   "metadata": {},
   "source": [
    "# Poisson Test\n",
    "\n",
    "There are many tools that exists for hypothesis testing of whether a poisson distribution has $\\hat{\\lambda} = \\lambda_{\\circ} $ or not. But what I want to test is that a particular data comes from a poisson distribution or not. For this there are different approaches. Ranging from visual to statistical analysis.\n",
    "\n",
    "Through online research I will try to find some basic methods to do the same. But I would need a second eye to validate the methods.\n",
    "\n",
    "Based on the [StackExchange](https://stats.stackexchange.com/questions/1174/how-can-i-test-if-given-samples-are-taken-from-a-poisson-distribution), I came to know about the 3 methods.\n",
    "- Likelihood Ratio Test\n",
    "- Poisson Dispersion Test\n",
    "- Use of Neyman-Scot Statistic\n",
    "\n",
    "Emanuele also suggested a method to test, I would try to elaborate that as well. \n",
    "\n",
    "### Note for code\n",
    "I could not find easily an R/Python code which does the same. Any suggestion on the same will be helpful."
   ]
  },
  {
   "cell_type": "markdown",
   "metadata": {},
   "source": [
    "## Likelihood Ratio Test\n",
    "\n",
    "\n",
    "### Theory\n",
    "How I understand it, the likelihood ratio ($\\Lambda$) is given as the ratio of likelihood under null hypothesis $H_{\\circ}$ and the likelihood ratio under the union of $H_{\\circ}$ and the alternate hypothesis $H_{a}$. \n",
    "\n",
    "And we know (somehow) that -2log($\\Lambda$) is $\\chi^2_k$ distributed, with k degrees of freedom.\n",
    "\n",
    "Ideally the entire dataset is divided in $n$ bins. And the null hypothesis is that entire dataset comes from one poisson distribution with a parameter $\\hat{\\lambda}$, while the under the union of $H_\\circ$ and $H_a$ it is considered that each of the bins have their individual $\\hat{\\lambda_i}$. In an ideal case they will be all equal to $\\hat{\\lambda}$ and then $\\Lambda$ will be equal to 1. Intuition is that as far we are from 1 (less than 1), more unlikely we are that the data comes from a poisson distribution.  \n",
    "\n",
    "\n"
   ]
  },
  {
   "cell_type": "markdown",
   "metadata": {},
   "source": [
    "### Application\n",
    "\n",
    "Under these assumption it is easy to find that -2log$\\Lambda$ = $2\\sum_{i=1}^{n}x_ilog\\frac{x_i}{\\bar{x}}$\n",
    "\n",
    "In our case, say we have 40 years of data, so n = 40. So we have 1 parameter $\\lambda$ and 40 parameters as $\\lambda_i$, <span style=\"background-color:powderblue;\"> in my understanding then k - degrees of freedom should be 39 </span>. I need to check this.\n"
   ]
  },
  {
   "cell_type": "markdown",
   "metadata": {},
   "source": [
    "### Working with ERA5 bias corrected data\n",
    "\n",
    "We start with the temperature, and then do a linear detrend. Further we do the test for the data as described above\n"
   ]
  },
  {
   "cell_type": "code",
   "execution_count": 252,
   "metadata": {},
   "outputs": [
    {
     "data": {
      "text/plain": [
       "<matplotlib.legend.Legend at 0x7f90cba989d0>"
      ]
     },
     "execution_count": 252,
     "metadata": {},
     "output_type": "execute_result"
    },
    {
     "data": {
      "image/png": "[encoded data removed]",
      "text/plain": [
       "<Figure size 432x288 with 1 Axes>"
      ]
     },
     "metadata": {
      "needs_background": "light"
     },
     "output_type": "display_data"
    }
   ],
   "source": [
    "from netCDF4 import Dataset\n",
    "from datetime import datetime, timedelta\n",
    "from scipy import signal\n",
    "import matplotlib.pylab as plt\n",
    "\n",
    "var = 'Tair'\n",
    "fpath_data = '/Users/anand/Documents/data/bias-corrected-reanalysis/'+var+'_WFDE5_CRU_dly_v1.0.nc'\n",
    "\n",
    "data = Dataset(fpath_data, 'r')\n",
    "\n",
    "def lat_lon_to_index(lat, lon):\n",
    "    lat_ind = (lat+90+0.5)/0.5\n",
    "    lon_ind = (lon+180+0.5)/0.5 \n",
    "    \n",
    "    return int(lat_ind), int(lon_ind)\n",
    "\n",
    "# Read the data for a particular location\n",
    "\n",
    "# # Leipzig\n",
    "\n",
    "# lat = 51.33\n",
    "# lon = 12.37\n",
    "\n",
    "\n",
    "# Zurich\n",
    "\n",
    "lat = 47.37\n",
    "lon = 8.54\n",
    "\n",
    "\n",
    "# # New Delhi\n",
    "\n",
    "# lat = 28.61\n",
    "# lon = 77.20\n",
    "\n",
    "# # Cannberra\n",
    "# lat = -35.28\n",
    "# lon = 149.130\n",
    "\n",
    "lat_ind, lon_ind = lat_lon_to_index(lat, lon)\n",
    "\n",
    "Tair = data[var][:,lat_ind,lon_ind]\n",
    "\n",
    "# First detrend the temperature\n",
    "\n",
    "Tair_trend = signal.detrend(Tair, type = 'constant')\n",
    "Tair_no_trend = signal.detrend(Tair, type = 'linear')\n",
    "\n",
    "fig, ax = plt.subplots(1,1)\n",
    "\n",
    "ax.vlines(trend_ind, ymin = 0, ymax = 1, color = 'orangered', label = 'with trend' )\n",
    "ax.vlines(no_trend_ind, ymin = 0, ymax = 1, color = 'navy', label = 'without trend')\n",
    "\n",
    "plt.legend(bbox_to_anchor=(1.35, 1))\n"
   ]
  },
  {
   "cell_type": "code",
   "execution_count": 253,
   "metadata": {},
   "outputs": [
    {
     "data": {
      "text/plain": [
       "<matplotlib.collections.PathCollection at 0x7f90cbfc9c40>"
      ]
     },
     "execution_count": 253,
     "metadata": {},
     "output_type": "execute_result"
    },
    {
     "data": {
      "image/png": "[encoded data removed]",
      "text/plain": [
       "<Figure size 432x288 with 1 Axes>"
      ]
     },
     "metadata": {
      "needs_background": "light"
     },
     "output_type": "display_data"
    }
   ],
   "source": [
    "# Find the hottest 3 months\n",
    "\n",
    "strt_dt = datetime(1900,1,1)\n",
    "\n",
    "day_list= [strt_dt+timedelta(hours=hr) for hr in data['time'][:]]\n",
    "\n",
    "avg_temp = np.zeros(12)\n",
    "\n",
    "for i in range(1,13):\n",
    "    \n",
    "    ind = [d.month==i for d in day_list] \n",
    "    \n",
    "    avg_temp[i-1] = np.average(Tair_no_trend[ind])\n",
    "\n",
    "# Sort in descending order\n",
    "hottest_months = [1+ month_ind for month_ind in  np.argsort(-avg_temp)[:3]]\n",
    "\n",
    "# make a 2 D array with date and temperature\n",
    "\n",
    "dt_3 = []\n",
    "Tair_3 = []\n",
    "\n",
    "for time, temp in zip(day_list, Tair_no_trend):    \n",
    "    if time.month in hottest_months:\n",
    "        dt_3.append(time)\n",
    "        Tair_3.append(temp)\n",
    "\n",
    "\n",
    "# Compute 95 percent \n",
    "perc_95 = np.percentile(Tair_3, 95)\n",
    "\n",
    "dt_3_95 = []\n",
    "Tair_3_95 = []\n",
    "\n",
    "for time, temp in zip(dt_3, Tair_3):    \n",
    "    if temp>perc_95:\n",
    "        dt_3_95.append(time)\n",
    "        Tair_3_95.append(temp)\n",
    "\n",
    "            \n",
    "fig, ax = plt.subplots(1,1)\n",
    "ax.scatter(dt_3_95, Tair_3_95)\n"
   ]
  },
  {
   "cell_type": "code",
   "execution_count": 254,
   "metadata": {},
   "outputs": [
    {
     "name": "stdout",
     "output_type": "stream",
     "text": [
      "4.6\n"
     ]
    },
    {
     "data": {
      "text/plain": [
       "[<matplotlib.lines.Line2D at 0x7f90cc366850>]"
      ]
     },
     "execution_count": 254,
     "metadata": {},
     "output_type": "execute_result"
    },
    {
     "data": {
      "image/png": "[encoded data removed]",
      "text/plain": [
       "<Figure size 288x576 with 1 Axes>"
      ]
     },
     "metadata": {
      "needs_background": "light"
     },
     "output_type": "display_data"
    }
   ],
   "source": [
    "from scipy.stats import poisson\n",
    "\n",
    "# Calculate the number of events in each year\n",
    "\n",
    "n_events_year = np.zeros(2019-1979)\n",
    "\n",
    "for time in dt_3_95:\n",
    "    i = time.year-1979 \n",
    "    n_events_year[i]+=1 \n",
    "\n",
    "mu = np.average(n_events_year)\n",
    "print(mu)\n",
    "k_list= np.arange(20)\n",
    "\n",
    "prob = poisson.pmf(k_list, mu)\n",
    "\n",
    "# plot the histogram and the poisson distribution    \n",
    "\n",
    "fig, ax = plt.subplots(1,1, figsize = (4,8))\n",
    "ax.hist(n_events_year, bins = 40, density = True)\n",
    "ax.plot(k_list, prob, color = 'r')\n",
    "\n",
    "    "
   ]
  },
  {
   "cell_type": "markdown",
   "metadata": {},
   "source": [
    "### Likelihood Ratio test "
   ]
  },
  {
   "cell_type": "code",
   "execution_count": 255,
   "metadata": {},
   "outputs": [
    {
     "name": "stdout",
     "output_type": "stream",
     "text": [
      "[ 0.  3.  0.  3. 12.  4.  3.  1.  1.  3.  3.  2.  4. 14.  2.  7.  6.  1.\n",
      "  0.  8.  3.  3.  2.  5. 13.  0.  4.  9.  2.  0.  1.  8.  4.  5.  9.  3.\n",
      " 18.  3.  7.  8.]\n",
      "[        nan -2.56466409         nan -2.56466409 23.01240831 -1.11809554\n",
      " -2.56466409 -3.05211261 -3.05211261 -2.56466409 -2.56466409 -3.33163649\n",
      " -1.11809554 31.16402873 -3.33163649  5.87795384  3.18843799 -3.05211261\n",
      "         nan  8.85416381 -2.56466409 -2.56466409 -3.33163649  0.83381609\n",
      " 27.0112194          nan -1.11809554 12.08102893 -3.33163649         nan\n",
      " -3.05211261  8.85416381 -1.11809554  0.83381609 12.08102893 -2.56466409\n",
      " 49.11535636 -2.56466409  5.87795384  8.85416381]\n"
     ]
    },
    {
     "name": "stderr",
     "output_type": "stream",
     "text": [
      "/var/folders/b5/fhm43p3s20z9bzkfrnl_8j140000gr/T/ipykernel_10097/755880897.py:10: RuntimeWarning: divide by zero encountered in log\n",
      "  arr_2loglambda = 2*np.multiply(n_events_year,np.log(n_events_year/mu))\n",
      "/var/folders/b5/fhm43p3s20z9bzkfrnl_8j140000gr/T/ipykernel_10097/755880897.py:10: RuntimeWarning: invalid value encountered in multiply\n",
      "  arr_2loglambda = 2*np.multiply(n_events_year,np.log(n_events_year/mu))\n"
     ]
    },
    {
     "data": {
      "image/png": "[encoded data removed]",
      "text/plain": [
       "<Figure size 432x288 with 1 Axes>"
      ]
     },
     "metadata": {
      "needs_background": "light"
     },
     "output_type": "display_data"
    }
   ],
   "source": [
    "## Lets look at a chi square distribution with k = 39\n",
    "from scipy.stats import chi2\n",
    "import numpy as np\n",
    "import matplotlib.pylab as plt\n",
    "\n",
    "\n",
    "def lr_test(n_events_year):\n",
    "    \n",
    "    mu = np.average(n_events_year)\n",
    "    arr_2loglambda = 2*np.multiply(n_events_year,np.log(n_events_year/mu))\n",
    "    neg_2loglambda = np.nansum(arr_2loglambda)\n",
    "    df = np.count_nonzero(~np.isnan(arr_2loglambda))\n",
    "    print(n_events_year)\n",
    "    print(arr_2loglambda)\n",
    "    # Generate 500 x points between 1 to 99 percentile values\n",
    "    x = np.linspace(10, 150, 500)\n",
    "    y = chi2.pdf(x,df)\n",
    "    conf_max = chi2.ppf(0.975,df)\n",
    "    conf_min = chi2.ppf(0.025,df)\n",
    "    \n",
    "    x_between = np.linspace(conf_min, conf_max, 400)\n",
    "    y_conf = chi2.pdf(x_between,df)\n",
    "    \n",
    "    fig, ax = plt.subplots(1,1)\n",
    "    ax.plot(x,y)\n",
    "    ax.fill_between(x_between, y_conf, color = 'mediumpurple', alpha = 0.3)\n",
    "    title = '$\\chi^{2}_{'+str(df)+'}$ distribution'\n",
    "    plt.title(title)\n",
    "    ax.axvline(x = neg_2loglambda, color = 'r')\n",
    "    \n",
    "lr_test(n_events_year)"
   ]
  },
  {
   "cell_type": "code",
   "execution_count": 251,
   "metadata": {},
   "outputs": [
    {
     "name": "stdout",
     "output_type": "stream",
     "text": [
      "[6 4 6 6 3 5 4 2 3 1 1 4 3 3 6 4 5 8 4 4 4 5 2 5 8 8 5 3 1 5 3 7 6 5 3 2 3\n",
      " 4 3 4]\n",
      "[ 4.28009933 -0.39032131  4.28009933  4.28009933 -2.01883342  1.74353387\n",
      " -0.39032131 -2.96774938 -2.01883342 -2.87016905 -2.87016905 -0.39032131\n",
      " -2.01883342 -2.01883342  4.28009933 -0.39032131  1.74353387 10.30971226\n",
      " -0.39032131 -0.39032131 -0.39032131  1.74353387 -2.96774938  1.74353387\n",
      " 10.30971226 10.30971226  1.74353387 -2.01883342 -2.87016905  1.74353387\n",
      " -2.01883342  7.15155873  4.28009933  1.74353387 -2.01883342 -2.96774938\n",
      " -2.01883342 -0.39032131 -2.01883342 -0.39032131]\n"
     ]
    },
    {
     "data": {
      "image/png": "[encoded data removed]",
      "text/plain": [
       "<Figure size 432x288 with 1 Axes>"
      ]
     },
     "metadata": {
      "needs_background": "light"
     },
     "output_type": "display_data"
    }
   ],
   "source": [
    "## Lets look at an example from true poisson distribution\n",
    "\n",
    "n_events_sim = poisson.rvs(mu, size= 40)\n",
    "lr_test(n_events_sim)"
   ]
  },
  {
   "cell_type": "code",
   "execution_count": null,
   "metadata": {},
   "outputs": [],
   "source": []
  },
  {
   "cell_type": "code",
   "execution_count": null,
   "metadata": {},
   "outputs": [],
   "source": []
  }
 ],
 "metadata": {
  "kernelspec": {
   "display_name": "Python 3 (ipykernel)",
   "language": "python",
   "name": "python3"
  },
  "language_info": {
   "codemirror_mode": {
    "name": "ipython",
    "version": 3
   },
   "file_extension": ".py",
   "mimetype": "text/x-python",
   "name": "python",
   "nbconvert_exporter": "python",
   "pygments_lexer": "ipython3",
   "version": "3.9.1"
  }
 },
 "nbformat": 4,
 "nbformat_minor": 4
}
